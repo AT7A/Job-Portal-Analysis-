{
 "cells": [
  {
   "cell_type": "code",
   "execution_count": 2,
   "id": "758c3def",
   "metadata": {},
   "outputs": [],
   "source": [
    "import numpy as np\n",
    "import pandas as pd"
   ]
  },
  {
   "cell_type": "code",
   "execution_count": 3,
   "id": "7509c6f4",
   "metadata": {},
   "outputs": [],
   "source": [
    "df = pd.read_csv(\"job_descriptions.csv\")"
   ]
  },
  {
   "cell_type": "code",
   "execution_count": 4,
   "id": "af6c8ff2",
   "metadata": {},
   "outputs": [
    {
     "data": {
      "text/html": [
       "<div>\n",
       "<style scoped>\n",
       "    .dataframe tbody tr th:only-of-type {\n",
       "        vertical-align: middle;\n",
       "    }\n",
       "\n",
       "    .dataframe tbody tr th {\n",
       "        vertical-align: top;\n",
       "    }\n",
       "\n",
       "    .dataframe thead th {\n",
       "        text-align: right;\n",
       "    }\n",
       "</style>\n",
       "<table border=\"1\" class=\"dataframe\">\n",
       "  <thead>\n",
       "    <tr style=\"text-align: right;\">\n",
       "      <th></th>\n",
       "      <th>Job Id</th>\n",
       "      <th>Experience</th>\n",
       "      <th>Qualifications</th>\n",
       "      <th>Salary Range</th>\n",
       "      <th>location</th>\n",
       "      <th>Country</th>\n",
       "      <th>latitude</th>\n",
       "      <th>longitude</th>\n",
       "      <th>Work Type</th>\n",
       "      <th>Company Size</th>\n",
       "      <th>...</th>\n",
       "      <th>Contact</th>\n",
       "      <th>Job Title</th>\n",
       "      <th>Role</th>\n",
       "      <th>Job Portal</th>\n",
       "      <th>Job Description</th>\n",
       "      <th>Benefits</th>\n",
       "      <th>skills</th>\n",
       "      <th>Responsibilities</th>\n",
       "      <th>Company</th>\n",
       "      <th>Company Profile</th>\n",
       "    </tr>\n",
       "  </thead>\n",
       "  <tbody>\n",
       "    <tr>\n",
       "      <th>0</th>\n",
       "      <td>1089843540111562</td>\n",
       "      <td>5 to 15 Years</td>\n",
       "      <td>M.Tech</td>\n",
       "      <td>$59K-$99K</td>\n",
       "      <td>Douglas</td>\n",
       "      <td>Isle of Man</td>\n",
       "      <td>54.2361</td>\n",
       "      <td>-4.5481</td>\n",
       "      <td>Intern</td>\n",
       "      <td>26801</td>\n",
       "      <td>...</td>\n",
       "      <td>001-381-930-7517x737</td>\n",
       "      <td>Digital Marketing Specialist</td>\n",
       "      <td>Social Media Manager</td>\n",
       "      <td>Snagajob</td>\n",
       "      <td>Social Media Managers oversee an organizations...</td>\n",
       "      <td>{'Flexible Spending Accounts (FSAs), Relocatio...</td>\n",
       "      <td>Social media platforms (e.g., Facebook, Twitte...</td>\n",
       "      <td>Manage and grow social media accounts, create ...</td>\n",
       "      <td>Icahn Enterprises</td>\n",
       "      <td>{\"Sector\":\"Diversified\",\"Industry\":\"Diversifie...</td>\n",
       "    </tr>\n",
       "    <tr>\n",
       "      <th>1</th>\n",
       "      <td>398454096642776</td>\n",
       "      <td>2 to 12 Years</td>\n",
       "      <td>BCA</td>\n",
       "      <td>$56K-$116K</td>\n",
       "      <td>Ashgabat</td>\n",
       "      <td>Turkmenistan</td>\n",
       "      <td>38.9697</td>\n",
       "      <td>59.5563</td>\n",
       "      <td>Intern</td>\n",
       "      <td>100340</td>\n",
       "      <td>...</td>\n",
       "      <td>461-509-4216</td>\n",
       "      <td>Web Developer</td>\n",
       "      <td>Frontend Web Developer</td>\n",
       "      <td>Idealist</td>\n",
       "      <td>Frontend Web Developers design and implement u...</td>\n",
       "      <td>{'Health Insurance, Retirement Plans, Paid Tim...</td>\n",
       "      <td>HTML, CSS, JavaScript Frontend frameworks (e.g...</td>\n",
       "      <td>Design and code user interfaces for websites, ...</td>\n",
       "      <td>PNC Financial Services Group</td>\n",
       "      <td>{\"Sector\":\"Financial Services\",\"Industry\":\"Com...</td>\n",
       "    </tr>\n",
       "    <tr>\n",
       "      <th>2</th>\n",
       "      <td>481640072963533</td>\n",
       "      <td>0 to 12 Years</td>\n",
       "      <td>PhD</td>\n",
       "      <td>$61K-$104K</td>\n",
       "      <td>Macao</td>\n",
       "      <td>Macao SAR, China</td>\n",
       "      <td>22.1987</td>\n",
       "      <td>113.5439</td>\n",
       "      <td>Temporary</td>\n",
       "      <td>84525</td>\n",
       "      <td>...</td>\n",
       "      <td>9687619505</td>\n",
       "      <td>Operations Manager</td>\n",
       "      <td>Quality Control Manager</td>\n",
       "      <td>Jobs2Careers</td>\n",
       "      <td>Quality Control Managers establish and enforce...</td>\n",
       "      <td>{'Legal Assistance, Bonuses and Incentive Prog...</td>\n",
       "      <td>Quality control processes and methodologies St...</td>\n",
       "      <td>Establish and enforce quality control standard...</td>\n",
       "      <td>United Services Automobile Assn.</td>\n",
       "      <td>{\"Sector\":\"Insurance\",\"Industry\":\"Insurance: P...</td>\n",
       "    </tr>\n",
       "  </tbody>\n",
       "</table>\n",
       "<p>3 rows × 23 columns</p>\n",
       "</div>"
      ],
      "text/plain": [
       "             Job Id     Experience Qualifications Salary Range  location  \\\n",
       "0  1089843540111562  5 to 15 Years         M.Tech    $59K-$99K   Douglas   \n",
       "1   398454096642776  2 to 12 Years            BCA   $56K-$116K  Ashgabat   \n",
       "2   481640072963533  0 to 12 Years            PhD   $61K-$104K     Macao   \n",
       "\n",
       "            Country  latitude  longitude  Work Type  Company Size  ...  \\\n",
       "0       Isle of Man   54.2361    -4.5481     Intern         26801  ...   \n",
       "1      Turkmenistan   38.9697    59.5563     Intern        100340  ...   \n",
       "2  Macao SAR, China   22.1987   113.5439  Temporary         84525  ...   \n",
       "\n",
       "                Contact                     Job Title  \\\n",
       "0  001-381-930-7517x737  Digital Marketing Specialist   \n",
       "1          461-509-4216                 Web Developer   \n",
       "2            9687619505            Operations Manager   \n",
       "\n",
       "                      Role    Job Portal  \\\n",
       "0     Social Media Manager      Snagajob   \n",
       "1   Frontend Web Developer      Idealist   \n",
       "2  Quality Control Manager  Jobs2Careers   \n",
       "\n",
       "                                     Job Description  \\\n",
       "0  Social Media Managers oversee an organizations...   \n",
       "1  Frontend Web Developers design and implement u...   \n",
       "2  Quality Control Managers establish and enforce...   \n",
       "\n",
       "                                            Benefits  \\\n",
       "0  {'Flexible Spending Accounts (FSAs), Relocatio...   \n",
       "1  {'Health Insurance, Retirement Plans, Paid Tim...   \n",
       "2  {'Legal Assistance, Bonuses and Incentive Prog...   \n",
       "\n",
       "                                              skills  \\\n",
       "0  Social media platforms (e.g., Facebook, Twitte...   \n",
       "1  HTML, CSS, JavaScript Frontend frameworks (e.g...   \n",
       "2  Quality control processes and methodologies St...   \n",
       "\n",
       "                                    Responsibilities  \\\n",
       "0  Manage and grow social media accounts, create ...   \n",
       "1  Design and code user interfaces for websites, ...   \n",
       "2  Establish and enforce quality control standard...   \n",
       "\n",
       "                            Company  \\\n",
       "0                 Icahn Enterprises   \n",
       "1      PNC Financial Services Group   \n",
       "2  United Services Automobile Assn.   \n",
       "\n",
       "                                     Company Profile  \n",
       "0  {\"Sector\":\"Diversified\",\"Industry\":\"Diversifie...  \n",
       "1  {\"Sector\":\"Financial Services\",\"Industry\":\"Com...  \n",
       "2  {\"Sector\":\"Insurance\",\"Industry\":\"Insurance: P...  \n",
       "\n",
       "[3 rows x 23 columns]"
      ]
     },
     "execution_count": 4,
     "metadata": {},
     "output_type": "execute_result"
    }
   ],
   "source": [
    "df.head(3)"
   ]
  },
  {
   "cell_type": "code",
   "execution_count": 5,
   "id": "8ad380ff",
   "metadata": {},
   "outputs": [
    {
     "data": {
      "text/html": [
       "<div>\n",
       "<style scoped>\n",
       "    .dataframe tbody tr th:only-of-type {\n",
       "        vertical-align: middle;\n",
       "    }\n",
       "\n",
       "    .dataframe tbody tr th {\n",
       "        vertical-align: top;\n",
       "    }\n",
       "\n",
       "    .dataframe thead th {\n",
       "        text-align: right;\n",
       "    }\n",
       "</style>\n",
       "<table border=\"1\" class=\"dataframe\">\n",
       "  <thead>\n",
       "    <tr style=\"text-align: right;\">\n",
       "      <th></th>\n",
       "      <th>Job Id</th>\n",
       "      <th>latitude</th>\n",
       "      <th>longitude</th>\n",
       "      <th>Company Size</th>\n",
       "    </tr>\n",
       "  </thead>\n",
       "  <tbody>\n",
       "    <tr>\n",
       "      <th>count</th>\n",
       "      <td>1.615940e+06</td>\n",
       "      <td>1.615940e+06</td>\n",
       "      <td>1.615940e+06</td>\n",
       "      <td>1.615940e+06</td>\n",
       "    </tr>\n",
       "    <tr>\n",
       "      <th>mean</th>\n",
       "      <td>1.548935e+15</td>\n",
       "      <td>1.937743e+01</td>\n",
       "      <td>1.639926e+01</td>\n",
       "      <td>7.370467e+04</td>\n",
       "    </tr>\n",
       "    <tr>\n",
       "      <th>std</th>\n",
       "      <td>8.946722e+14</td>\n",
       "      <td>2.355690e+01</td>\n",
       "      <td>7.066762e+01</td>\n",
       "      <td>3.529886e+04</td>\n",
       "    </tr>\n",
       "    <tr>\n",
       "      <th>min</th>\n",
       "      <td>1.817948e+11</td>\n",
       "      <td>-4.090060e+01</td>\n",
       "      <td>-1.751982e+02</td>\n",
       "      <td>1.264600e+04</td>\n",
       "    </tr>\n",
       "    <tr>\n",
       "      <th>25%</th>\n",
       "      <td>7.740508e+14</td>\n",
       "      <td>5.152100e+00</td>\n",
       "      <td>-1.531010e+01</td>\n",
       "      <td>4.311400e+04</td>\n",
       "    </tr>\n",
       "    <tr>\n",
       "      <th>50%</th>\n",
       "      <td>1.547858e+15</td>\n",
       "      <td>1.807080e+01</td>\n",
       "      <td>1.914510e+01</td>\n",
       "      <td>7.363300e+04</td>\n",
       "    </tr>\n",
       "    <tr>\n",
       "      <th>75%</th>\n",
       "      <td>2.323729e+15</td>\n",
       "      <td>3.907420e+01</td>\n",
       "      <td>4.757690e+01</td>\n",
       "      <td>1.043000e+05</td>\n",
       "    </tr>\n",
       "    <tr>\n",
       "      <th>max</th>\n",
       "      <td>3.099618e+15</td>\n",
       "      <td>7.170690e+01</td>\n",
       "      <td>1.780650e+02</td>\n",
       "      <td>1.348340e+05</td>\n",
       "    </tr>\n",
       "  </tbody>\n",
       "</table>\n",
       "</div>"
      ],
      "text/plain": [
       "             Job Id      latitude     longitude  Company Size\n",
       "count  1.615940e+06  1.615940e+06  1.615940e+06  1.615940e+06\n",
       "mean   1.548935e+15  1.937743e+01  1.639926e+01  7.370467e+04\n",
       "std    8.946722e+14  2.355690e+01  7.066762e+01  3.529886e+04\n",
       "min    1.817948e+11 -4.090060e+01 -1.751982e+02  1.264600e+04\n",
       "25%    7.740508e+14  5.152100e+00 -1.531010e+01  4.311400e+04\n",
       "50%    1.547858e+15  1.807080e+01  1.914510e+01  7.363300e+04\n",
       "75%    2.323729e+15  3.907420e+01  4.757690e+01  1.043000e+05\n",
       "max    3.099618e+15  7.170690e+01  1.780650e+02  1.348340e+05"
      ]
     },
     "execution_count": 5,
     "metadata": {},
     "output_type": "execute_result"
    }
   ],
   "source": [
    "df.describe()"
   ]
  },
  {
   "cell_type": "code",
   "execution_count": 6,
   "id": "68edb52e",
   "metadata": {},
   "outputs": [
    {
     "data": {
      "text/plain": [
       "(1615940, 23)"
      ]
     },
     "execution_count": 6,
     "metadata": {},
     "output_type": "execute_result"
    }
   ],
   "source": [
    "df.shape"
   ]
  },
  {
   "cell_type": "code",
   "execution_count": 7,
   "id": "ace4a109",
   "metadata": {},
   "outputs": [
    {
     "data": {
      "text/plain": [
       "Job Id                int64\n",
       "Experience           object\n",
       "Qualifications       object\n",
       "Salary Range         object\n",
       "location             object\n",
       "Country              object\n",
       "latitude            float64\n",
       "longitude           float64\n",
       "Work Type            object\n",
       "Company Size          int64\n",
       "Job Posting Date     object\n",
       "Preference           object\n",
       "Contact Person       object\n",
       "Contact              object\n",
       "Job Title            object\n",
       "Role                 object\n",
       "Job Portal           object\n",
       "Job Description      object\n",
       "Benefits             object\n",
       "skills               object\n",
       "Responsibilities     object\n",
       "Company              object\n",
       "Company Profile      object\n",
       "dtype: object"
      ]
     },
     "execution_count": 7,
     "metadata": {},
     "output_type": "execute_result"
    }
   ],
   "source": [
    "df.dtypes"
   ]
  },
  {
   "cell_type": "code",
   "execution_count": 8,
   "id": "56d1c1bd",
   "metadata": {},
   "outputs": [
    {
     "data": {
      "text/plain": [
       "pandas.core.frame.DataFrame"
      ]
     },
     "execution_count": 8,
     "metadata": {},
     "output_type": "execute_result"
    }
   ],
   "source": [
    "type(df)"
   ]
  },
  {
   "cell_type": "code",
   "execution_count": 9,
   "id": "7f3d7512",
   "metadata": {},
   "outputs": [
    {
     "data": {
      "text/plain": [
       "Index(['Job Id', 'Experience', 'Qualifications', 'Salary Range', 'location',\n",
       "       'Country', 'latitude', 'longitude', 'Work Type', 'Company Size',\n",
       "       'Job Posting Date', 'Preference', 'Contact Person', 'Contact',\n",
       "       'Job Title', 'Role', 'Job Portal', 'Job Description', 'Benefits',\n",
       "       'skills', 'Responsibilities', 'Company', 'Company Profile'],\n",
       "      dtype='object')"
      ]
     },
     "execution_count": 9,
     "metadata": {},
     "output_type": "execute_result"
    }
   ],
   "source": [
    "df.columns"
   ]
  },
  {
   "cell_type": "code",
   "execution_count": 10,
   "id": "aedbc355",
   "metadata": {},
   "outputs": [],
   "source": [
    "df.rename(columns= {'Job Id':'Job_Id','Salary Range':'Salary_Range','Company Profile':'Company_Profile','Work Type':'Work_Type','Company Size':'Company_Size','Job Posting Date':'Job_Posting_Date','Contact Person':'Contact_Person','Job Title':'Job_Title','Job Portal':'Job_Portal','Job Description':'Job_Description'}, inplace= True)\n"
   ]
  },
  {
   "cell_type": "code",
   "execution_count": 11,
   "id": "2a1111da",
   "metadata": {},
   "outputs": [
    {
     "data": {
      "text/html": [
       "<div>\n",
       "<style scoped>\n",
       "    .dataframe tbody tr th:only-of-type {\n",
       "        vertical-align: middle;\n",
       "    }\n",
       "\n",
       "    .dataframe tbody tr th {\n",
       "        vertical-align: top;\n",
       "    }\n",
       "\n",
       "    .dataframe thead th {\n",
       "        text-align: right;\n",
       "    }\n",
       "</style>\n",
       "<table border=\"1\" class=\"dataframe\">\n",
       "  <thead>\n",
       "    <tr style=\"text-align: right;\">\n",
       "      <th></th>\n",
       "      <th>Job_Id</th>\n",
       "      <th>Experience</th>\n",
       "      <th>Qualifications</th>\n",
       "      <th>Salary_Range</th>\n",
       "      <th>location</th>\n",
       "      <th>Country</th>\n",
       "      <th>latitude</th>\n",
       "      <th>longitude</th>\n",
       "      <th>Work_Type</th>\n",
       "      <th>Company_Size</th>\n",
       "      <th>...</th>\n",
       "      <th>Contact</th>\n",
       "      <th>Job_Title</th>\n",
       "      <th>Role</th>\n",
       "      <th>Job_Portal</th>\n",
       "      <th>Job_Description</th>\n",
       "      <th>Benefits</th>\n",
       "      <th>skills</th>\n",
       "      <th>Responsibilities</th>\n",
       "      <th>Company</th>\n",
       "      <th>Company_Profile</th>\n",
       "    </tr>\n",
       "  </thead>\n",
       "  <tbody>\n",
       "    <tr>\n",
       "      <th>0</th>\n",
       "      <td>1089843540111562</td>\n",
       "      <td>5 to 15 Years</td>\n",
       "      <td>M.Tech</td>\n",
       "      <td>$59K-$99K</td>\n",
       "      <td>Douglas</td>\n",
       "      <td>Isle of Man</td>\n",
       "      <td>54.2361</td>\n",
       "      <td>-4.5481</td>\n",
       "      <td>Intern</td>\n",
       "      <td>26801</td>\n",
       "      <td>...</td>\n",
       "      <td>001-381-930-7517x737</td>\n",
       "      <td>Digital Marketing Specialist</td>\n",
       "      <td>Social Media Manager</td>\n",
       "      <td>Snagajob</td>\n",
       "      <td>Social Media Managers oversee an organizations...</td>\n",
       "      <td>{'Flexible Spending Accounts (FSAs), Relocatio...</td>\n",
       "      <td>Social media platforms (e.g., Facebook, Twitte...</td>\n",
       "      <td>Manage and grow social media accounts, create ...</td>\n",
       "      <td>Icahn Enterprises</td>\n",
       "      <td>{\"Sector\":\"Diversified\",\"Industry\":\"Diversifie...</td>\n",
       "    </tr>\n",
       "    <tr>\n",
       "      <th>1</th>\n",
       "      <td>398454096642776</td>\n",
       "      <td>2 to 12 Years</td>\n",
       "      <td>BCA</td>\n",
       "      <td>$56K-$116K</td>\n",
       "      <td>Ashgabat</td>\n",
       "      <td>Turkmenistan</td>\n",
       "      <td>38.9697</td>\n",
       "      <td>59.5563</td>\n",
       "      <td>Intern</td>\n",
       "      <td>100340</td>\n",
       "      <td>...</td>\n",
       "      <td>461-509-4216</td>\n",
       "      <td>Web Developer</td>\n",
       "      <td>Frontend Web Developer</td>\n",
       "      <td>Idealist</td>\n",
       "      <td>Frontend Web Developers design and implement u...</td>\n",
       "      <td>{'Health Insurance, Retirement Plans, Paid Tim...</td>\n",
       "      <td>HTML, CSS, JavaScript Frontend frameworks (e.g...</td>\n",
       "      <td>Design and code user interfaces for websites, ...</td>\n",
       "      <td>PNC Financial Services Group</td>\n",
       "      <td>{\"Sector\":\"Financial Services\",\"Industry\":\"Com...</td>\n",
       "    </tr>\n",
       "  </tbody>\n",
       "</table>\n",
       "<p>2 rows × 23 columns</p>\n",
       "</div>"
      ],
      "text/plain": [
       "             Job_Id     Experience Qualifications Salary_Range  location  \\\n",
       "0  1089843540111562  5 to 15 Years         M.Tech    $59K-$99K   Douglas   \n",
       "1   398454096642776  2 to 12 Years            BCA   $56K-$116K  Ashgabat   \n",
       "\n",
       "        Country  latitude  longitude Work_Type  Company_Size  ...  \\\n",
       "0   Isle of Man   54.2361    -4.5481    Intern         26801  ...   \n",
       "1  Turkmenistan   38.9697    59.5563    Intern        100340  ...   \n",
       "\n",
       "                Contact                     Job_Title                    Role  \\\n",
       "0  001-381-930-7517x737  Digital Marketing Specialist    Social Media Manager   \n",
       "1          461-509-4216                 Web Developer  Frontend Web Developer   \n",
       "\n",
       "  Job_Portal                                    Job_Description  \\\n",
       "0   Snagajob  Social Media Managers oversee an organizations...   \n",
       "1   Idealist  Frontend Web Developers design and implement u...   \n",
       "\n",
       "                                            Benefits  \\\n",
       "0  {'Flexible Spending Accounts (FSAs), Relocatio...   \n",
       "1  {'Health Insurance, Retirement Plans, Paid Tim...   \n",
       "\n",
       "                                              skills  \\\n",
       "0  Social media platforms (e.g., Facebook, Twitte...   \n",
       "1  HTML, CSS, JavaScript Frontend frameworks (e.g...   \n",
       "\n",
       "                                    Responsibilities  \\\n",
       "0  Manage and grow social media accounts, create ...   \n",
       "1  Design and code user interfaces for websites, ...   \n",
       "\n",
       "                        Company  \\\n",
       "0             Icahn Enterprises   \n",
       "1  PNC Financial Services Group   \n",
       "\n",
       "                                     Company_Profile  \n",
       "0  {\"Sector\":\"Diversified\",\"Industry\":\"Diversifie...  \n",
       "1  {\"Sector\":\"Financial Services\",\"Industry\":\"Com...  \n",
       "\n",
       "[2 rows x 23 columns]"
      ]
     },
     "execution_count": 11,
     "metadata": {},
     "output_type": "execute_result"
    }
   ],
   "source": [
    "df.head(2)"
   ]
  },
  {
   "cell_type": "code",
   "execution_count": 12,
   "id": "00ea10f8",
   "metadata": {},
   "outputs": [],
   "source": [
    "df.dropna(inplace= True)"
   ]
  },
  {
   "cell_type": "code",
   "execution_count": 13,
   "id": "ae26beae",
   "metadata": {},
   "outputs": [
    {
     "data": {
      "text/plain": [
       "Job_Id              0\n",
       "Experience          0\n",
       "Qualifications      0\n",
       "Salary_Range        0\n",
       "location            0\n",
       "Country             0\n",
       "latitude            0\n",
       "longitude           0\n",
       "Work_Type           0\n",
       "Company_Size        0\n",
       "Job_Posting_Date    0\n",
       "Preference          0\n",
       "Contact_Person      0\n",
       "Contact             0\n",
       "Job_Title           0\n",
       "Role                0\n",
       "Job_Portal          0\n",
       "Job_Description     0\n",
       "Benefits            0\n",
       "skills              0\n",
       "Responsibilities    0\n",
       "Company             0\n",
       "Company_Profile     0\n",
       "dtype: int64"
      ]
     },
     "execution_count": 13,
     "metadata": {},
     "output_type": "execute_result"
    }
   ],
   "source": [
    "df.isnull().sum()"
   ]
  },
  {
   "cell_type": "code",
   "execution_count": 14,
   "id": "97081133",
   "metadata": {},
   "outputs": [],
   "source": [
    "df.drop_duplicates(inplace= True)"
   ]
  },
  {
   "cell_type": "code",
   "execution_count": 15,
   "id": "50b3524d",
   "metadata": {},
   "outputs": [
    {
     "data": {
      "text/plain": [
       "(1610462, 23)"
      ]
     },
     "execution_count": 15,
     "metadata": {},
     "output_type": "execute_result"
    }
   ],
   "source": [
    "df.shape"
   ]
  },
  {
   "cell_type": "code",
   "execution_count": 16,
   "id": "58be6eb6",
   "metadata": {},
   "outputs": [],
   "source": [
    "df.to_csv('Job-Description1.csv')"
   ]
  },
  {
   "cell_type": "code",
   "execution_count": 17,
   "id": "90b4b116",
   "metadata": {},
   "outputs": [
    {
     "data": {
      "text/plain": [
       "(1610462, 23)"
      ]
     },
     "execution_count": 17,
     "metadata": {},
     "output_type": "execute_result"
    }
   ],
   "source": [
    "df.shape"
   ]
  }
 ],
 "metadata": {
  "kernelspec": {
   "display_name": "Python 3 (ipykernel)",
   "language": "python",
   "name": "python3"
  },
  "language_info": {
   "codemirror_mode": {
    "name": "ipython",
    "version": 3
   },
   "file_extension": ".py",
   "mimetype": "text/x-python",
   "name": "python",
   "nbconvert_exporter": "python",
   "pygments_lexer": "ipython3",
   "version": "3.11.5"
  }
 },
 "nbformat": 4,
 "nbformat_minor": 5
}
